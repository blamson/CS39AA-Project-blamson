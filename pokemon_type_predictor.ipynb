{
 "cells": [
  {
   "cell_type": "markdown",
   "id": "145e9f15-8208-4104-a253-29e7a93b5e4b",
   "metadata": {},
   "source": [
    "# NLP Project: Pokemon Type Predictor\n",
    "## Author: Brady Lamson\n",
    "## Date: Fall 2023"
   ]
  },
  {
   "cell_type": "markdown",
   "id": "866b3e1e-c841-4974-99d9-42db7f797838",
   "metadata": {},
   "source": [
    "# Data Loading\n",
    "\n",
    "Here we connect to kaggle and download the dataset. Note that an access token is required to run this code. \n",
    "This file also has some wack encoding, so I have to modify that to read in the file."
   ]
  },
  {
   "cell_type": "code",
   "execution_count": 1,
   "id": "3338d347-34d8-4e59-a669-a203ca12c417",
   "metadata": {},
   "outputs": [],
   "source": [
    "import pandas as pd\n",
    "import numpy as np\n",
    "import os\n",
    "import matplotlib.pyplot as plt\n",
    "import matplotlib.style"
   ]
  },
  {
   "cell_type": "code",
   "execution_count": 2,
   "id": "389f7881-e559-4675-be30-5547643c5df0",
   "metadata": {},
   "outputs": [
    {
     "name": "stdout",
     "output_type": "stream",
     "text": [
      "Warning: Your Kaggle API key is readable by other users on this system! To fix this, you can run 'chmod 600 /home/brady/.kaggle/kaggle.json'\n",
      "pokedex.zip: Skipping, found more recently modified local copy (use --force to force download)\n"
     ]
    },
    {
     "data": {
      "text/html": [
       "<div>\n",
       "<style scoped>\n",
       "    .dataframe tbody tr th:only-of-type {\n",
       "        vertical-align: middle;\n",
       "    }\n",
       "\n",
       "    .dataframe tbody tr th {\n",
       "        vertical-align: top;\n",
       "    }\n",
       "\n",
       "    .dataframe thead th {\n",
       "        text-align: right;\n",
       "    }\n",
       "</style>\n",
       "<table border=\"1\" class=\"dataframe\">\n",
       "  <thead>\n",
       "    <tr style=\"text-align: right;\">\n",
       "      <th></th>\n",
       "      <th>national_number</th>\n",
       "      <th>gen</th>\n",
       "      <th>english_name</th>\n",
       "      <th>japanese_name</th>\n",
       "      <th>primary_type</th>\n",
       "      <th>secondary_type</th>\n",
       "      <th>classification</th>\n",
       "      <th>percent_male</th>\n",
       "      <th>percent_female</th>\n",
       "      <th>height_m</th>\n",
       "      <th>...</th>\n",
       "      <th>evochain_1</th>\n",
       "      <th>evochain_2</th>\n",
       "      <th>evochain_3</th>\n",
       "      <th>evochain_4</th>\n",
       "      <th>evochain_5</th>\n",
       "      <th>evochain_6</th>\n",
       "      <th>gigantamax</th>\n",
       "      <th>mega_evolution</th>\n",
       "      <th>mega_evolution_alt</th>\n",
       "      <th>description</th>\n",
       "    </tr>\n",
       "  </thead>\n",
       "  <tbody>\n",
       "    <tr>\n",
       "      <th>0</th>\n",
       "      <td>1</td>\n",
       "      <td>I</td>\n",
       "      <td>Bulbasaur</td>\n",
       "      <td>Fushigidane</td>\n",
       "      <td>grass</td>\n",
       "      <td>poison</td>\n",
       "      <td>Seed Pokémon</td>\n",
       "      <td>88.14</td>\n",
       "      <td>11.86</td>\n",
       "      <td>0.7</td>\n",
       "      <td>...</td>\n",
       "      <td>Level</td>\n",
       "      <td>Ivysaur</td>\n",
       "      <td>Level</td>\n",
       "      <td>Venusaur</td>\n",
       "      <td>NaN</td>\n",
       "      <td>NaN</td>\n",
       "      <td>NaN</td>\n",
       "      <td>NaN</td>\n",
       "      <td>NaN</td>\n",
       "      <td>There is a plant seed on its back right from t...</td>\n",
       "    </tr>\n",
       "    <tr>\n",
       "      <th>1</th>\n",
       "      <td>2</td>\n",
       "      <td>I</td>\n",
       "      <td>Ivysaur</td>\n",
       "      <td>Fushigisou</td>\n",
       "      <td>grass</td>\n",
       "      <td>poison</td>\n",
       "      <td>Seed Pokémon</td>\n",
       "      <td>88.14</td>\n",
       "      <td>11.86</td>\n",
       "      <td>1.0</td>\n",
       "      <td>...</td>\n",
       "      <td>Level</td>\n",
       "      <td>Ivysaur</td>\n",
       "      <td>Level</td>\n",
       "      <td>Venusaur</td>\n",
       "      <td>NaN</td>\n",
       "      <td>NaN</td>\n",
       "      <td>NaN</td>\n",
       "      <td>NaN</td>\n",
       "      <td>NaN</td>\n",
       "      <td>When the bulb on its back grows large, it appe...</td>\n",
       "    </tr>\n",
       "    <tr>\n",
       "      <th>2</th>\n",
       "      <td>3</td>\n",
       "      <td>I</td>\n",
       "      <td>Venusaur</td>\n",
       "      <td>Fushigibana</td>\n",
       "      <td>grass</td>\n",
       "      <td>poison</td>\n",
       "      <td>Seed Pokémon</td>\n",
       "      <td>88.14</td>\n",
       "      <td>11.86</td>\n",
       "      <td>2.0</td>\n",
       "      <td>...</td>\n",
       "      <td>Level</td>\n",
       "      <td>Ivysaur</td>\n",
       "      <td>Level</td>\n",
       "      <td>Venusaur</td>\n",
       "      <td>NaN</td>\n",
       "      <td>NaN</td>\n",
       "      <td>Gigantamax Venusaur</td>\n",
       "      <td>Mega Venusaur</td>\n",
       "      <td>NaN</td>\n",
       "      <td>Its plant blooms when it is absorbing solar en...</td>\n",
       "    </tr>\n",
       "    <tr>\n",
       "      <th>3</th>\n",
       "      <td>4</td>\n",
       "      <td>I</td>\n",
       "      <td>Charmander</td>\n",
       "      <td>Hitokage</td>\n",
       "      <td>fire</td>\n",
       "      <td>NaN</td>\n",
       "      <td>Lizard Pokémon</td>\n",
       "      <td>88.14</td>\n",
       "      <td>11.86</td>\n",
       "      <td>0.6</td>\n",
       "      <td>...</td>\n",
       "      <td>Level</td>\n",
       "      <td>Charmeleon</td>\n",
       "      <td>Level</td>\n",
       "      <td>Charizard</td>\n",
       "      <td>NaN</td>\n",
       "      <td>NaN</td>\n",
       "      <td>NaN</td>\n",
       "      <td>NaN</td>\n",
       "      <td>NaN</td>\n",
       "      <td>It has a preference for hot things. When it ra...</td>\n",
       "    </tr>\n",
       "    <tr>\n",
       "      <th>4</th>\n",
       "      <td>5</td>\n",
       "      <td>I</td>\n",
       "      <td>Charmeleon</td>\n",
       "      <td>Lizardo</td>\n",
       "      <td>fire</td>\n",
       "      <td>NaN</td>\n",
       "      <td>Flame Pokémon</td>\n",
       "      <td>88.14</td>\n",
       "      <td>11.86</td>\n",
       "      <td>1.1</td>\n",
       "      <td>...</td>\n",
       "      <td>Level</td>\n",
       "      <td>Charmeleon</td>\n",
       "      <td>Level</td>\n",
       "      <td>Charizard</td>\n",
       "      <td>NaN</td>\n",
       "      <td>NaN</td>\n",
       "      <td>NaN</td>\n",
       "      <td>NaN</td>\n",
       "      <td>NaN</td>\n",
       "      <td>It has a barbaric nature. In battle, it whips ...</td>\n",
       "    </tr>\n",
       "  </tbody>\n",
       "</table>\n",
       "<p>5 rows × 55 columns</p>\n",
       "</div>"
      ],
      "text/plain": [
       "   national_number gen english_name japanese_name primary_type secondary_type  \\\n",
       "0                1   I    Bulbasaur   Fushigidane        grass         poison   \n",
       "1                2   I      Ivysaur    Fushigisou        grass         poison   \n",
       "2                3   I     Venusaur   Fushigibana        grass         poison   \n",
       "3                4   I   Charmander      Hitokage         fire            NaN   \n",
       "4                5   I   Charmeleon       Lizardo         fire            NaN   \n",
       "\n",
       "   classification percent_male percent_female  height_m  ...  evochain_1  \\\n",
       "0    Seed Pokémon        88.14          11.86       0.7  ...      Level    \n",
       "1    Seed Pokémon        88.14          11.86       1.0  ...      Level    \n",
       "2    Seed Pokémon        88.14          11.86       2.0  ...      Level    \n",
       "3  Lizard Pokémon        88.14          11.86       0.6  ...      Level    \n",
       "4   Flame Pokémon        88.14          11.86       1.1  ...      Level    \n",
       "\n",
       "   evochain_2  evochain_3  evochain_4  evochain_5  evochain_6  \\\n",
       "0     Ivysaur      Level     Venusaur         NaN         NaN   \n",
       "1     Ivysaur      Level     Venusaur         NaN         NaN   \n",
       "2     Ivysaur      Level     Venusaur         NaN         NaN   \n",
       "3  Charmeleon      Level    Charizard         NaN         NaN   \n",
       "4  Charmeleon      Level    Charizard         NaN         NaN   \n",
       "\n",
       "            gigantamax  mega_evolution  mega_evolution_alt  \\\n",
       "0                  NaN             NaN                 NaN   \n",
       "1                  NaN             NaN                 NaN   \n",
       "2  Gigantamax Venusaur   Mega Venusaur                 NaN   \n",
       "3                  NaN             NaN                 NaN   \n",
       "4                  NaN             NaN                 NaN   \n",
       "\n",
       "                                         description  \n",
       "0  There is a plant seed on its back right from t...  \n",
       "1  When the bulb on its back grows large, it appe...  \n",
       "2  Its plant blooms when it is absorbing solar en...  \n",
       "3  It has a preference for hot things. When it ra...  \n",
       "4  It has a barbaric nature. In battle, it whips ...  \n",
       "\n",
       "[5 rows x 55 columns]"
      ]
     },
     "execution_count": 2,
     "metadata": {},
     "output_type": "execute_result"
    }
   ],
   "source": [
    "!kaggle datasets download -d cristobalmitchell/pokedex\n",
    "data_path = \"./data/pokemon.csv\"\n",
    "if not os.path.isfile(data_path):\n",
    "    !unzip pokedex.zip -d data\n",
    "\n",
    "df = pd.read_csv(data_path, sep='\\t', encoding='utf-16-le')\n",
    "df.head()"
   ]
  },
  {
   "cell_type": "markdown",
   "id": "7d823db6-47aa-4351-93f3-ad93b66149d2",
   "metadata": {},
   "source": [
    "# Data Exploration\n",
    "\n",
    "I always like to take a look at what we can expect from a single row. It seems this dataset contains a TON of information."
   ]
  },
  {
   "cell_type": "code",
   "execution_count": 3,
   "id": "c342f3c8-8935-4104-8edc-99351f68707c",
   "metadata": {},
   "outputs": [
    {
     "data": {
      "text/plain": [
       "national_number                                                       1\n",
       "gen                                                                   I\n",
       "english_name                                                  Bulbasaur\n",
       "japanese_name                                               Fushigidane\n",
       "primary_type                                                      grass\n",
       "secondary_type                                                   poison\n",
       "classification                                             Seed Pokémon\n",
       "percent_male                                                      88.14\n",
       "percent_female                                                    11.86\n",
       "height_m                                                            0.7\n",
       "weight_kg                                                           6.9\n",
       "capture_rate                                                         45\n",
       "base_egg_steps                                                     5120\n",
       "hp                                                                   45\n",
       "attack                                                               49\n",
       "defense                                                              49\n",
       "sp_attack                                                            65\n",
       "sp_defense                                                           65\n",
       "speed                                                                45\n",
       "abilities_0                                                    Overgrow\n",
       "abilities_1                                                         NaN\n",
       "abilities_2                                                         NaN\n",
       "abilities_hidden                                            Chlorophyll\n",
       "against_normal                                                      1.0\n",
       "against_fire                                                        2.0\n",
       "against_water                                                       0.5\n",
       "against_electric                                                    0.5\n",
       "against_grass                                                      0.25\n",
       "against_ice                                                         2.0\n",
       "against_fighting                                                    0.5\n",
       "against_poison                                                      1.0\n",
       "against_ground                                                      1.0\n",
       "against_flying                                                      2.0\n",
       "against_psychic                                                     2.0\n",
       "against_bug                                                         1.0\n",
       "against_rock                                                        1.0\n",
       "against_ghost                                                       1.0\n",
       "against_dragon                                                      1.0\n",
       "against_dark                                                        1.0\n",
       "against_steel                                                       1.0\n",
       "against_fairy                                                       0.5\n",
       "is_sublegendary                                                       0\n",
       "is_legendary                                                          0\n",
       "is_mythical                                                           0\n",
       "evochain_0                                                    Bulbasaur\n",
       "evochain_1                                                       Level \n",
       "evochain_2                                                      Ivysaur\n",
       "evochain_3                                                       Level \n",
       "evochain_4                                                     Venusaur\n",
       "evochain_5                                                          NaN\n",
       "evochain_6                                                          NaN\n",
       "gigantamax                                                          NaN\n",
       "mega_evolution                                                      NaN\n",
       "mega_evolution_alt                                                  NaN\n",
       "description           There is a plant seed on its back right from t...\n",
       "Name: 0, dtype: object"
      ]
     },
     "execution_count": 3,
     "metadata": {},
     "output_type": "execute_result"
    }
   ],
   "source": [
    "df.iloc[0]"
   ]
  },
  {
   "cell_type": "markdown",
   "id": "d12b494a-c19f-4e5c-a6ef-c033b63a4e51",
   "metadata": {},
   "source": [
    "## Removing unnecessary columns\n",
    "\n",
    "Seems we can par this down a lot and remove a ton of the columns. We only really care about a few of them, like `english_name`, `primary_type`, `secondary_type` and `description`. "
   ]
  },
  {
   "cell_type": "code",
   "execution_count": 12,
   "id": "ca56367b-7a34-47ac-afd4-a8233e394f44",
   "metadata": {},
   "outputs": [
    {
     "data": {
      "text/html": [
       "<div>\n",
       "<style scoped>\n",
       "    .dataframe tbody tr th:only-of-type {\n",
       "        vertical-align: middle;\n",
       "    }\n",
       "\n",
       "    .dataframe tbody tr th {\n",
       "        vertical-align: top;\n",
       "    }\n",
       "\n",
       "    .dataframe thead th {\n",
       "        text-align: right;\n",
       "    }\n",
       "</style>\n",
       "<table border=\"1\" class=\"dataframe\">\n",
       "  <thead>\n",
       "    <tr style=\"text-align: right;\">\n",
       "      <th></th>\n",
       "      <th>english_name</th>\n",
       "      <th>primary_type</th>\n",
       "      <th>secondary_type</th>\n",
       "      <th>description</th>\n",
       "    </tr>\n",
       "  </thead>\n",
       "  <tbody>\n",
       "    <tr>\n",
       "      <th>0</th>\n",
       "      <td>Bulbasaur</td>\n",
       "      <td>grass</td>\n",
       "      <td>poison</td>\n",
       "      <td>There is a plant seed on its back right from t...</td>\n",
       "    </tr>\n",
       "    <tr>\n",
       "      <th>1</th>\n",
       "      <td>Ivysaur</td>\n",
       "      <td>grass</td>\n",
       "      <td>poison</td>\n",
       "      <td>When the bulb on its back grows large, it appe...</td>\n",
       "    </tr>\n",
       "    <tr>\n",
       "      <th>2</th>\n",
       "      <td>Venusaur</td>\n",
       "      <td>grass</td>\n",
       "      <td>poison</td>\n",
       "      <td>Its plant blooms when it is absorbing solar en...</td>\n",
       "    </tr>\n",
       "    <tr>\n",
       "      <th>3</th>\n",
       "      <td>Charmander</td>\n",
       "      <td>fire</td>\n",
       "      <td>NaN</td>\n",
       "      <td>It has a preference for hot things. When it ra...</td>\n",
       "    </tr>\n",
       "    <tr>\n",
       "      <th>4</th>\n",
       "      <td>Charmeleon</td>\n",
       "      <td>fire</td>\n",
       "      <td>NaN</td>\n",
       "      <td>It has a barbaric nature. In battle, it whips ...</td>\n",
       "    </tr>\n",
       "  </tbody>\n",
       "</table>\n",
       "</div>"
      ],
      "text/plain": [
       "  english_name primary_type secondary_type  \\\n",
       "0    Bulbasaur        grass         poison   \n",
       "1      Ivysaur        grass         poison   \n",
       "2     Venusaur        grass         poison   \n",
       "3   Charmander         fire            NaN   \n",
       "4   Charmeleon         fire            NaN   \n",
       "\n",
       "                                         description  \n",
       "0  There is a plant seed on its back right from t...  \n",
       "1  When the bulb on its back grows large, it appe...  \n",
       "2  Its plant blooms when it is absorbing solar en...  \n",
       "3  It has a preference for hot things. When it ra...  \n",
       "4  It has a barbaric nature. In battle, it whips ...  "
      ]
     },
     "execution_count": 12,
     "metadata": {},
     "output_type": "execute_result"
    }
   ],
   "source": [
    "columns_to_keep = ['english_name', 'primary_type', 'secondary_type', 'description']\n",
    "df = df[columns_to_keep]\n",
    "df.head()"
   ]
  },
  {
   "cell_type": "markdown",
   "id": "02b422f2-c0a8-4e72-9bd6-4c334c960505",
   "metadata": {},
   "source": [
    "## Checking Types and Frequency"
   ]
  },
  {
   "cell_type": "code",
   "execution_count": 5,
   "id": "dafb241e-6c36-4079-8a8d-82a89b5f1f4f",
   "metadata": {},
   "outputs": [
    {
     "data": {
      "text/html": [
       "<div>\n",
       "<style scoped>\n",
       "    .dataframe tbody tr th:only-of-type {\n",
       "        vertical-align: middle;\n",
       "    }\n",
       "\n",
       "    .dataframe tbody tr th {\n",
       "        vertical-align: top;\n",
       "    }\n",
       "\n",
       "    .dataframe thead th {\n",
       "        text-align: right;\n",
       "    }\n",
       "</style>\n",
       "<table border=\"1\" class=\"dataframe\">\n",
       "  <thead>\n",
       "    <tr style=\"text-align: right;\">\n",
       "      <th></th>\n",
       "      <th>type</th>\n",
       "      <th>primary_counts</th>\n",
       "      <th>secondary_counts</th>\n",
       "    </tr>\n",
       "  </thead>\n",
       "  <tbody>\n",
       "    <tr>\n",
       "      <th>0</th>\n",
       "      <td>water</td>\n",
       "      <td>123</td>\n",
       "      <td>18</td>\n",
       "    </tr>\n",
       "    <tr>\n",
       "      <th>1</th>\n",
       "      <td>normal</td>\n",
       "      <td>109</td>\n",
       "      <td>6</td>\n",
       "    </tr>\n",
       "    <tr>\n",
       "      <th>2</th>\n",
       "      <td>grass</td>\n",
       "      <td>86</td>\n",
       "      <td>22</td>\n",
       "    </tr>\n",
       "    <tr>\n",
       "      <th>3</th>\n",
       "      <td>bug</td>\n",
       "      <td>75</td>\n",
       "      <td>9</td>\n",
       "    </tr>\n",
       "    <tr>\n",
       "      <th>4</th>\n",
       "      <td>fire</td>\n",
       "      <td>58</td>\n",
       "      <td>16</td>\n",
       "    </tr>\n",
       "    <tr>\n",
       "      <th>5</th>\n",
       "      <td>psychic</td>\n",
       "      <td>58</td>\n",
       "      <td>35</td>\n",
       "    </tr>\n",
       "    <tr>\n",
       "      <th>6</th>\n",
       "      <td>rock</td>\n",
       "      <td>50</td>\n",
       "      <td>15</td>\n",
       "    </tr>\n",
       "    <tr>\n",
       "      <th>7</th>\n",
       "      <td>electric</td>\n",
       "      <td>49</td>\n",
       "      <td>9</td>\n",
       "    </tr>\n",
       "    <tr>\n",
       "      <th>8</th>\n",
       "      <td>dark</td>\n",
       "      <td>36</td>\n",
       "      <td>25</td>\n",
       "    </tr>\n",
       "    <tr>\n",
       "      <th>9</th>\n",
       "      <td>fighting</td>\n",
       "      <td>36</td>\n",
       "      <td>26</td>\n",
       "    </tr>\n",
       "    <tr>\n",
       "      <th>10</th>\n",
       "      <td>ground</td>\n",
       "      <td>35</td>\n",
       "      <td>35</td>\n",
       "    </tr>\n",
       "    <tr>\n",
       "      <th>11</th>\n",
       "      <td>poison</td>\n",
       "      <td>35</td>\n",
       "      <td>37</td>\n",
       "    </tr>\n",
       "    <tr>\n",
       "      <th>12</th>\n",
       "      <td>ghost</td>\n",
       "      <td>31</td>\n",
       "      <td>20</td>\n",
       "    </tr>\n",
       "    <tr>\n",
       "      <th>13</th>\n",
       "      <td>dragon</td>\n",
       "      <td>31</td>\n",
       "      <td>25</td>\n",
       "    </tr>\n",
       "    <tr>\n",
       "      <th>14</th>\n",
       "      <td>steel</td>\n",
       "      <td>30</td>\n",
       "      <td>24</td>\n",
       "    </tr>\n",
       "    <tr>\n",
       "      <th>15</th>\n",
       "      <td>ice</td>\n",
       "      <td>28</td>\n",
       "      <td>18</td>\n",
       "    </tr>\n",
       "    <tr>\n",
       "      <th>16</th>\n",
       "      <td>fairy</td>\n",
       "      <td>21</td>\n",
       "      <td>34</td>\n",
       "    </tr>\n",
       "    <tr>\n",
       "      <th>17</th>\n",
       "      <td>flying</td>\n",
       "      <td>7</td>\n",
       "      <td>95</td>\n",
       "    </tr>\n",
       "  </tbody>\n",
       "</table>\n",
       "</div>"
      ],
      "text/plain": [
       "        type  primary_counts  secondary_counts\n",
       "0      water             123                18\n",
       "1     normal             109                 6\n",
       "2      grass              86                22\n",
       "3        bug              75                 9\n",
       "4       fire              58                16\n",
       "5    psychic              58                35\n",
       "6       rock              50                15\n",
       "7   electric              49                 9\n",
       "8       dark              36                25\n",
       "9   fighting              36                26\n",
       "10    ground              35                35\n",
       "11    poison              35                37\n",
       "12     ghost              31                20\n",
       "13    dragon              31                25\n",
       "14     steel              30                24\n",
       "15       ice              28                18\n",
       "16     fairy              21                34\n",
       "17    flying               7                95"
      ]
     },
     "execution_count": 5,
     "metadata": {},
     "output_type": "execute_result"
    }
   ],
   "source": [
    "num_types = len(df.primary_type.unique())\n",
    "y_axis = np.arange(num_types)\n",
    "primary_counts = (\n",
    "    df\n",
    "    .primary_type\n",
    "    .value_counts()\n",
    "    .rename(\"primary_counts\")\n",
    ")\n",
    "secondary_counts = (\n",
    "    df\n",
    "    .secondary_type\n",
    "    .value_counts()\n",
    "    .rename(\"secondary_counts\")\n",
    ")\n",
    "count_df = (\n",
    "    pd.concat([primary_counts, secondary_counts], axis=1)\n",
    "    .reset_index(names=\"type\")\n",
    ")\n",
    "count_df"
   ]
  },
  {
   "cell_type": "code",
   "execution_count": 29,
   "id": "26a0d4ee-5999-48b6-8755-636faf654516",
   "metadata": {},
   "outputs": [
    {
     "data": {
      "image/png": "[encoded data removed]",
      "text/plain": [
       "<Figure size 700x800 with 1 Axes>"
      ]
     },
     "metadata": {},
     "output_type": "display_data"
    }
   ],
   "source": [
    "matplotlib.style.use(\"default\")\n",
    "ax = (\n",
    "    count_df\n",
    "    .plot\n",
    "    .barh(\n",
    "        x='type',\n",
    "        figsize=(7,8),\n",
    "        title=\"Frequency of Pokemon Types\",\n",
    "        xlabel=\"Frequency\",\n",
    "        ylabel=\"\",\n",
    "        # grid=True,\n",
    "        width=0.8\n",
    "    )\n",
    "    .legend(\n",
    "        ['Primary Type', 'Secondary Type'],\n",
    "        loc=\"upper right\",\n",
    "        bbox_to_anchor=(1,0.95),\n",
    "        fancybox=True, \n",
    "        framealpha=1,\n",
    "        ncol=1\n",
    "    )\n",
    ")"
   ]
  },
  {
   "cell_type": "markdown",
   "id": "2862ed28-ae7f-4601-99be-afcd81c61653",
   "metadata": {},
   "source": [
    "### Thoughts\n",
    "\n",
    "This data is very strangely unbalanced. I knew that going in but this is extreme. Some types basically only exist as primary or secondary which is super interesting. These two columns are unbalanced in almost opposite ways. This will be very interesting to work around."
   ]
  },
  {
   "cell_type": "markdown",
   "id": "5d09721f-86d5-445a-9b93-6bbaf8570c5d",
   "metadata": {},
   "source": [
    "## Description Length Analysis\n",
    "\n",
    "Next up is how long are the pokemon descriptions? This is a particularly interesting question because it depends on the \"generation\" of games we pull this info from. Each new set of pokemon games comes with its own unique set of pokedex entries for pokemon, and they tended to get longer as the consoles they were on became more powerful. Regardless, let's see how long these are."
   ]
  },
  {
   "cell_type": "markdown",
   "id": "b5741488-f220-43ba-adba-85cb1b86fe96",
   "metadata": {},
   "source": [
    "### Character Count Length"
   ]
  },
  {
   "cell_type": "code",
   "execution_count": 66,
   "id": "a46165c6-a90b-4331-aadc-2be227f24e16",
   "metadata": {},
   "outputs": [
    {
     "data": {
      "text/plain": [
       "Text(170, 205, '$\\\\mu = 122.83, \\\\sigma = 26.23$')"
      ]
     },
     "execution_count": 66,
     "metadata": {},
     "output_type": "execute_result"
    },
    {
     "data": {
      "image/png": "[encoded data removed]",
      "text/plain": [
       "<Figure size 640x480 with 1 Axes>"
      ]
     },
     "metadata": {},
     "output_type": "display_data"
    }
   ],
   "source": [
    "df = (\n",
    "    df.assign(\n",
    "        entry_length = df.description.apply(len)\n",
    "    )\n",
    ")\n",
    "mean = round(df.entry_length.mean(), 2)\n",
    "sd = round(df.entry_length.std(), 2)\n",
    "\n",
    "df.entry_length.hist(rwidth=0.9, grid=False)\n",
    "plt.title(\"Length of Pokedex Entries (characters)\")\n",
    "plt.xlabel(\"Number of Characters\")\n",
    "plt.ylabel(\"Frequency\")\n",
    "plt.grid(axis='y', alpha=0.75)\n",
    "plt.text(170,205, f\"$\\mu = {mean}, \\sigma = {sd}$\")"
   ]
  },
  {
   "cell_type": "markdown",
   "id": "de4960fd-0283-4cff-8b17-5875b6afed89",
   "metadata": {},
   "source": [
    "Some more information"
   ]
  },
  {
   "cell_type": "code",
   "execution_count": 53,
   "id": "87586964-cbce-46a3-9992-530351f003cc",
   "metadata": {},
   "outputs": [
    {
     "data": {
      "text/plain": [
       "count    898.000000\n",
       "mean     122.825167\n",
       "std       26.228257\n",
       "min       67.000000\n",
       "25%      102.000000\n",
       "50%      121.000000\n",
       "75%      137.000000\n",
       "max      228.000000\n",
       "Name: entry_length, dtype: float64"
      ]
     },
     "execution_count": 53,
     "metadata": {},
     "output_type": "execute_result"
    }
   ],
   "source": [
    "df.entry_length.describe()"
   ]
  },
  {
   "cell_type": "markdown",
   "id": "00730f51-7ca8-48ab-89ab-246060b907df",
   "metadata": {},
   "source": [
    "Much like the plot hints, this data is mostly gathered around the 100-140 character length range. That's good to know."
   ]
  },
  {
   "cell_type": "markdown",
   "id": "11b8ff4b-ecf8-4874-a1fb-3fd553503b4d",
   "metadata": {},
   "source": [
    "### Token Count"
   ]
  },
  {
   "cell_type": "code",
   "execution_count": 65,
   "id": "e2390bdf-17d7-4133-9e10-91ee3e313ad6",
   "metadata": {},
   "outputs": [
    {
     "data": {
      "text/plain": [
       "Text(30, 275, '$\\\\mu = 21.77, \\\\sigma = 4.79$')"
      ]
     },
     "execution_count": 65,
     "metadata": {},
     "output_type": "execute_result"
    },
    {
     "data": {
      "image/png": "[encoded data removed]",
      "text/plain": [
       "<Figure size 640x480 with 1 Axes>"
      ]
     },
     "metadata": {},
     "output_type": "display_data"
    }
   ],
   "source": [
    "df = (\n",
    "    df.\n",
    "    assign(\n",
    "        word_count=df['description'].str.split().apply(len)\n",
    "    )\n",
    ")\n",
    "\n",
    "mean = round(df.word_count.mean(), 2)\n",
    "sd = round(df.word_count.std(), 2)\n",
    "\n",
    "df.word_count.hist(rwidth=0.9, grid=False)\n",
    "plt.title(\"Length of Pokedex Entries (words)\")\n",
    "plt.xlabel(\"Number of Words\")\n",
    "plt.ylabel(\"Frequency\")\n",
    "plt.grid(axis='y', alpha=0.75)\n",
    "plt.text(30,275, f\"$\\mu = {mean}, \\sigma = {sd}$\")"
   ]
  },
  {
   "cell_type": "code",
   "execution_count": 67,
   "id": "a6075d27-225a-461b-a1e6-48869b3a2554",
   "metadata": {},
   "outputs": [
    {
     "data": {
      "text/plain": [
       "count    898.000000\n",
       "mean      21.772829\n",
       "std        4.787532\n",
       "min       10.000000\n",
       "25%       18.000000\n",
       "50%       21.000000\n",
       "75%       24.000000\n",
       "max       43.000000\n",
       "Name: word_count, dtype: float64"
      ]
     },
     "execution_count": 67,
     "metadata": {},
     "output_type": "execute_result"
    }
   ],
   "source": [
    "df.word_count.describe()"
   ]
  },
  {
   "cell_type": "markdown",
   "id": "9a2e0dd0-ea7a-4122-9886-e5e1e4bcbb72",
   "metadata": {},
   "source": [
    "What we see is a close to normal or log-normal distribution of word length. That's neat. Not too sure if that's important, but it is cool! \n",
    "\n",
    "Overall though these values will help us later when we choose to pad or truncate any sequences during the tokenization step."
   ]
  }
 ],
 "metadata": {
  "kernelspec": {
   "display_name": "Python 3 (ipykernel)",
   "language": "python",
   "name": "python3"
  },
  "language_info": {
   "codemirror_mode": {
    "name": "ipython",
    "version": 3
   },
   "file_extension": ".py",
   "mimetype": "text/x-python",
   "name": "python",
   "nbconvert_exporter": "python",
   "pygments_lexer": "ipython3",
   "version": "3.10.12"
  }
 },
 "nbformat": 4,
 "nbformat_minor": 5
}
