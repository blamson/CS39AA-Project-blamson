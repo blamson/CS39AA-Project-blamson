{
 "cells": [
  {
   "cell_type": "markdown",
   "id": "5cd7ebbc-f2c8-4d36-ba08-d54e62f3b8a7",
   "metadata": {},
   "source": [
    "# Part 3: Deep Learning Model with Transformers\n",
    "## Author: Brady Lamson\n",
    "## Date: Fall 2023\n",
    "# Overview and Motivation\n",
    "\n",
    "This portion of the project has a couple distinct goals. \n",
    "\n",
    "Firstly, I shall utilize the `distilibert-base-uncased` model to attempt to predict the primary and secondary types of pokemon entirely from their text descriptions.\n",
    "\n",
    "Secondly, this notebook will function as a detailed walkthrough to fine tuning a huggingface transformer. Much of the information for this task is scattered throughout documentation and articles of varying levels of utility, so compiling all of that information into one notebook will result in something that will hopefully be useful to me and anyone who may read this. \n",
    "\n",
    "This walkthrough will also utilize hyperparameter search using the `optuna` library, which many articles I have read online seem to lack. I hope this will give this walkthrough a useful niche that other guides have not filled.\n",
    "\n",
    "## Potential Limitations\n",
    "\n",
    "Performance of this model will be sought after but is not the end goal. I fear that the dataset I am working with will put a cap on performance. Pokemon types are extremely varied, with 19 types existing in this dataset alone. On top of that, I am predicting on both primary and secondary types which turns this into a multi-label prediction problem. Thus, combinations of types become important and many combinations of types only appear once. This is a limitation that likely cannot be overcome without removing problematic rows from the training split or simply acquiring more data. \n",
    "\n",
    "A future improvement that is outside the scope of this project is to collect all of the pokemon descriptions from each game. There are many pokemon games, and using this would allow us to duplicate many pokemon and artifically make certain type combinations more frequent and inflate our dataset. This would also provide more descriptions to train on as they tend to be similar but not identical in every game. This is obviously not without its downsides as it would inflate the frequency of already frequent type combinations, but a variant of this plan with a bit more thought put into it may be worth considering if maximizing model performance is a priority."
   ]
  },
  {
   "cell_type": "markdown",
   "id": "33ebd30e-c3ea-4c89-aaa5-38cddea9675d",
   "metadata": {},
   "source": [
    "# Data Loading and Preprocessing"
   ]
  }
 ],
 "metadata": {
  "kernelspec": {
   "display_name": "Python 3 (ipykernel)",
   "language": "python",
   "name": "python3"
  },
  "language_info": {
   "codemirror_mode": {
    "name": "ipython",
    "version": 3
   },
   "file_extension": ".py",
   "mimetype": "text/x-python",
   "name": "python",
   "nbconvert_exporter": "python",
   "pygments_lexer": "ipython3",
   "version": "3.10.5"
  }
 },
 "nbformat": 4,
 "nbformat_minor": 5
}
